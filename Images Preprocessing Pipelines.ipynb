{
 "cells": [
  {
   "cell_type": "code",
   "execution_count": 1,
   "id": "ae7c03df",
   "metadata": {},
   "outputs": [
    {
     "name": "stdout",
     "output_type": "stream",
     "text": [
      "Requirement already satisfied: rembg in /Users/angel007/anaconda3/lib/python3.11/site-packages (2.0.59)\n",
      "Requirement already satisfied: jsonschema in /Users/angel007/anaconda3/lib/python3.11/site-packages (from rembg) (4.17.3)\n",
      "Requirement already satisfied: numpy in /Users/angel007/anaconda3/lib/python3.11/site-packages (from rembg) (1.24.3)\n",
      "Requirement already satisfied: onnxruntime in /Users/angel007/anaconda3/lib/python3.11/site-packages (from rembg) (1.19.2)\n",
      "Requirement already satisfied: opencv-python-headless in /Users/angel007/anaconda3/lib/python3.11/site-packages (from rembg) (4.10.0.84)\n",
      "Requirement already satisfied: pillow in /Users/angel007/anaconda3/lib/python3.11/site-packages (from rembg) (9.4.0)\n",
      "Requirement already satisfied: pooch in /Users/angel007/anaconda3/lib/python3.11/site-packages (from rembg) (1.6.0)\n",
      "Requirement already satisfied: pymatting in /Users/angel007/anaconda3/lib/python3.11/site-packages (from rembg) (1.1.12)\n",
      "Requirement already satisfied: scikit-image in /Users/angel007/anaconda3/lib/python3.11/site-packages (from rembg) (0.20.0)\n",
      "Requirement already satisfied: scipy in /Users/angel007/anaconda3/lib/python3.11/site-packages (from rembg) (1.10.1)\n",
      "Requirement already satisfied: tqdm in /Users/angel007/anaconda3/lib/python3.11/site-packages (from rembg) (4.65.0)\n",
      "Requirement already satisfied: attrs>=17.4.0 in /Users/angel007/anaconda3/lib/python3.11/site-packages (from jsonschema->rembg) (22.1.0)\n",
      "Requirement already satisfied: pyrsistent!=0.17.0,!=0.17.1,!=0.17.2,>=0.14.0 in /Users/angel007/anaconda3/lib/python3.11/site-packages (from jsonschema->rembg) (0.18.0)\n",
      "Requirement already satisfied: coloredlogs in /Users/angel007/anaconda3/lib/python3.11/site-packages (from onnxruntime->rembg) (15.0.1)\n",
      "Requirement already satisfied: flatbuffers in /Users/angel007/anaconda3/lib/python3.11/site-packages (from onnxruntime->rembg) (23.5.26)\n",
      "Requirement already satisfied: packaging in /Users/angel007/anaconda3/lib/python3.11/site-packages (from onnxruntime->rembg) (23.0)\n",
      "Requirement already satisfied: protobuf in /Users/angel007/anaconda3/lib/python3.11/site-packages (from onnxruntime->rembg) (4.25.3)\n",
      "Requirement already satisfied: sympy in /Users/angel007/anaconda3/lib/python3.11/site-packages (from onnxruntime->rembg) (1.11.1)\n",
      "Requirement already satisfied: appdirs>=1.3.0 in /Users/angel007/anaconda3/lib/python3.11/site-packages (from pooch->rembg) (1.4.4)\n",
      "Requirement already satisfied: requests>=2.19.0 in /Users/angel007/anaconda3/lib/python3.11/site-packages (from pooch->rembg) (2.31.0)\n",
      "Requirement already satisfied: numba!=0.49.0 in /Users/angel007/anaconda3/lib/python3.11/site-packages (from pymatting->rembg) (0.57.0)\n",
      "Requirement already satisfied: networkx>=2.8 in /Users/angel007/anaconda3/lib/python3.11/site-packages (from scikit-image->rembg) (3.1)\n",
      "Requirement already satisfied: imageio>=2.4.1 in /Users/angel007/anaconda3/lib/python3.11/site-packages (from scikit-image->rembg) (2.31.1)\n",
      "Requirement already satisfied: tifffile>=2019.7.26 in /Users/angel007/anaconda3/lib/python3.11/site-packages (from scikit-image->rembg) (2021.7.2)\n",
      "Requirement already satisfied: PyWavelets>=1.1.1 in /Users/angel007/anaconda3/lib/python3.11/site-packages (from scikit-image->rembg) (1.4.1)\n",
      "Requirement already satisfied: lazy_loader>=0.1 in /Users/angel007/anaconda3/lib/python3.11/site-packages (from scikit-image->rembg) (0.2)\n",
      "Requirement already satisfied: llvmlite<0.41,>=0.40.0dev0 in /Users/angel007/anaconda3/lib/python3.11/site-packages (from numba!=0.49.0->pymatting->rembg) (0.40.0)\n",
      "Requirement already satisfied: charset-normalizer<4,>=2 in /Users/angel007/anaconda3/lib/python3.11/site-packages (from requests>=2.19.0->pooch->rembg) (2.0.4)\n",
      "Requirement already satisfied: idna<4,>=2.5 in /Users/angel007/anaconda3/lib/python3.11/site-packages (from requests>=2.19.0->pooch->rembg) (3.4)\n",
      "Requirement already satisfied: urllib3<3,>=1.21.1 in /Users/angel007/anaconda3/lib/python3.11/site-packages (from requests>=2.19.0->pooch->rembg) (1.26.16)\n",
      "Requirement already satisfied: certifi>=2017.4.17 in /Users/angel007/anaconda3/lib/python3.11/site-packages (from requests>=2.19.0->pooch->rembg) (2023.7.22)\n",
      "Requirement already satisfied: humanfriendly>=9.1 in /Users/angel007/anaconda3/lib/python3.11/site-packages (from coloredlogs->onnxruntime->rembg) (10.0)\n",
      "Requirement already satisfied: mpmath>=0.19 in /Users/angel007/anaconda3/lib/python3.11/site-packages (from sympy->onnxruntime->rembg) (1.3.0)\n",
      "\n",
      "\u001b[1m[\u001b[0m\u001b[34;49mnotice\u001b[0m\u001b[1;39;49m]\u001b[0m\u001b[39;49m A new release of pip is available: \u001b[0m\u001b[31;49m24.1.2\u001b[0m\u001b[39;49m -> \u001b[0m\u001b[32;49m24.2\u001b[0m\n",
      "\u001b[1m[\u001b[0m\u001b[34;49mnotice\u001b[0m\u001b[1;39;49m]\u001b[0m\u001b[39;49m To update, run: \u001b[0m\u001b[32;49mpip install --upgrade pip\u001b[0m\n"
     ]
    }
   ],
   "source": [
    "!pip install rembg\n"
   ]
  },
  {
   "cell_type": "code",
   "execution_count": 2,
   "id": "e42a9a5e",
   "metadata": {},
   "outputs": [
    {
     "name": "stdout",
     "output_type": "stream",
     "text": [
      "Requirement already satisfied: rembg in /Users/angel007/anaconda3/lib/python3.11/site-packages (2.0.59)\n",
      "Requirement already satisfied: jsonschema in /Users/angel007/anaconda3/lib/python3.11/site-packages (from rembg) (4.17.3)\n",
      "Requirement already satisfied: numpy in /Users/angel007/anaconda3/lib/python3.11/site-packages (from rembg) (1.24.3)\n",
      "Requirement already satisfied: onnxruntime in /Users/angel007/anaconda3/lib/python3.11/site-packages (from rembg) (1.19.2)\n",
      "Requirement already satisfied: opencv-python-headless in /Users/angel007/anaconda3/lib/python3.11/site-packages (from rembg) (4.10.0.84)\n",
      "Requirement already satisfied: pillow in /Users/angel007/anaconda3/lib/python3.11/site-packages (from rembg) (9.4.0)\n",
      "Requirement already satisfied: pooch in /Users/angel007/anaconda3/lib/python3.11/site-packages (from rembg) (1.6.0)\n",
      "Requirement already satisfied: pymatting in /Users/angel007/anaconda3/lib/python3.11/site-packages (from rembg) (1.1.12)\n",
      "Requirement already satisfied: scikit-image in /Users/angel007/anaconda3/lib/python3.11/site-packages (from rembg) (0.20.0)\n",
      "Requirement already satisfied: scipy in /Users/angel007/anaconda3/lib/python3.11/site-packages (from rembg) (1.10.1)\n",
      "Requirement already satisfied: tqdm in /Users/angel007/anaconda3/lib/python3.11/site-packages (from rembg) (4.65.0)\n",
      "Requirement already satisfied: attrs>=17.4.0 in /Users/angel007/anaconda3/lib/python3.11/site-packages (from jsonschema->rembg) (22.1.0)\n",
      "Requirement already satisfied: pyrsistent!=0.17.0,!=0.17.1,!=0.17.2,>=0.14.0 in /Users/angel007/anaconda3/lib/python3.11/site-packages (from jsonschema->rembg) (0.18.0)\n",
      "Requirement already satisfied: coloredlogs in /Users/angel007/anaconda3/lib/python3.11/site-packages (from onnxruntime->rembg) (15.0.1)\n",
      "Requirement already satisfied: flatbuffers in /Users/angel007/anaconda3/lib/python3.11/site-packages (from onnxruntime->rembg) (23.5.26)\n",
      "Requirement already satisfied: packaging in /Users/angel007/anaconda3/lib/python3.11/site-packages (from onnxruntime->rembg) (23.0)\n",
      "Requirement already satisfied: protobuf in /Users/angel007/anaconda3/lib/python3.11/site-packages (from onnxruntime->rembg) (4.25.3)\n",
      "Requirement already satisfied: sympy in /Users/angel007/anaconda3/lib/python3.11/site-packages (from onnxruntime->rembg) (1.11.1)\n",
      "Requirement already satisfied: appdirs>=1.3.0 in /Users/angel007/anaconda3/lib/python3.11/site-packages (from pooch->rembg) (1.4.4)\n",
      "Requirement already satisfied: requests>=2.19.0 in /Users/angel007/anaconda3/lib/python3.11/site-packages (from pooch->rembg) (2.31.0)\n",
      "Requirement already satisfied: numba!=0.49.0 in /Users/angel007/anaconda3/lib/python3.11/site-packages (from pymatting->rembg) (0.57.0)\n",
      "Requirement already satisfied: networkx>=2.8 in /Users/angel007/anaconda3/lib/python3.11/site-packages (from scikit-image->rembg) (3.1)\n",
      "Requirement already satisfied: imageio>=2.4.1 in /Users/angel007/anaconda3/lib/python3.11/site-packages (from scikit-image->rembg) (2.31.1)\n",
      "Requirement already satisfied: tifffile>=2019.7.26 in /Users/angel007/anaconda3/lib/python3.11/site-packages (from scikit-image->rembg) (2021.7.2)\n",
      "Requirement already satisfied: PyWavelets>=1.1.1 in /Users/angel007/anaconda3/lib/python3.11/site-packages (from scikit-image->rembg) (1.4.1)\n",
      "Requirement already satisfied: lazy_loader>=0.1 in /Users/angel007/anaconda3/lib/python3.11/site-packages (from scikit-image->rembg) (0.2)\n",
      "Requirement already satisfied: llvmlite<0.41,>=0.40.0dev0 in /Users/angel007/anaconda3/lib/python3.11/site-packages (from numba!=0.49.0->pymatting->rembg) (0.40.0)\n",
      "Requirement already satisfied: charset-normalizer<4,>=2 in /Users/angel007/anaconda3/lib/python3.11/site-packages (from requests>=2.19.0->pooch->rembg) (2.0.4)\n",
      "Requirement already satisfied: idna<4,>=2.5 in /Users/angel007/anaconda3/lib/python3.11/site-packages (from requests>=2.19.0->pooch->rembg) (3.4)\n",
      "Requirement already satisfied: urllib3<3,>=1.21.1 in /Users/angel007/anaconda3/lib/python3.11/site-packages (from requests>=2.19.0->pooch->rembg) (1.26.16)\n",
      "Requirement already satisfied: certifi>=2017.4.17 in /Users/angel007/anaconda3/lib/python3.11/site-packages (from requests>=2.19.0->pooch->rembg) (2023.7.22)\n",
      "Requirement already satisfied: humanfriendly>=9.1 in /Users/angel007/anaconda3/lib/python3.11/site-packages (from coloredlogs->onnxruntime->rembg) (10.0)\n",
      "Requirement already satisfied: mpmath>=0.19 in /Users/angel007/anaconda3/lib/python3.11/site-packages (from sympy->onnxruntime->rembg) (1.3.0)\n",
      "\n",
      "\u001b[1m[\u001b[0m\u001b[34;49mnotice\u001b[0m\u001b[1;39;49m]\u001b[0m\u001b[39;49m A new release of pip is available: \u001b[0m\u001b[31;49m24.1.2\u001b[0m\u001b[39;49m -> \u001b[0m\u001b[32;49m24.2\u001b[0m\n",
      "\u001b[1m[\u001b[0m\u001b[34;49mnotice\u001b[0m\u001b[1;39;49m]\u001b[0m\u001b[39;49m To update, run: \u001b[0m\u001b[32;49mpip install --upgrade pip\u001b[0m\n",
      "Note: you may need to restart the kernel to use updated packages.\n"
     ]
    }
   ],
   "source": [
    "pip install --upgrade rembg\n"
   ]
  },
  {
   "cell_type": "code",
   "execution_count": 3,
   "id": "bf389dfb",
   "metadata": {},
   "outputs": [
    {
     "name": "stdout",
     "output_type": "stream",
     "text": [
      "Requirement already satisfied: pooch in /Users/angel007/anaconda3/lib/python3.11/site-packages (1.6.0)\n",
      "Collecting pooch\n",
      "  Using cached pooch-1.8.2-py3-none-any.whl.metadata (10 kB)\n",
      "Requirement already satisfied: platformdirs>=2.5.0 in /Users/angel007/anaconda3/lib/python3.11/site-packages (from pooch) (2.5.2)\n",
      "Requirement already satisfied: packaging>=20.0 in /Users/angel007/anaconda3/lib/python3.11/site-packages (from pooch) (23.0)\n",
      "Requirement already satisfied: requests>=2.19.0 in /Users/angel007/anaconda3/lib/python3.11/site-packages (from pooch) (2.31.0)\n",
      "Requirement already satisfied: charset-normalizer<4,>=2 in /Users/angel007/anaconda3/lib/python3.11/site-packages (from requests>=2.19.0->pooch) (2.0.4)\n",
      "Requirement already satisfied: idna<4,>=2.5 in /Users/angel007/anaconda3/lib/python3.11/site-packages (from requests>=2.19.0->pooch) (3.4)\n",
      "Requirement already satisfied: urllib3<3,>=1.21.1 in /Users/angel007/anaconda3/lib/python3.11/site-packages (from requests>=2.19.0->pooch) (1.26.16)\n",
      "Requirement already satisfied: certifi>=2017.4.17 in /Users/angel007/anaconda3/lib/python3.11/site-packages (from requests>=2.19.0->pooch) (2023.7.22)\n",
      "Using cached pooch-1.8.2-py3-none-any.whl (64 kB)\n",
      "Installing collected packages: pooch\n",
      "  Attempting uninstall: pooch\n",
      "    Found existing installation: pooch 1.6.0\n",
      "    Uninstalling pooch-1.6.0:\n",
      "      Successfully uninstalled pooch-1.6.0\n",
      "Successfully installed pooch-1.8.2\n",
      "\n",
      "\u001b[1m[\u001b[0m\u001b[34;49mnotice\u001b[0m\u001b[1;39;49m]\u001b[0m\u001b[39;49m A new release of pip is available: \u001b[0m\u001b[31;49m24.1.2\u001b[0m\u001b[39;49m -> \u001b[0m\u001b[32;49m24.2\u001b[0m\n",
      "\u001b[1m[\u001b[0m\u001b[34;49mnotice\u001b[0m\u001b[1;39;49m]\u001b[0m\u001b[39;49m To update, run: \u001b[0m\u001b[32;49mpip install --upgrade pip\u001b[0m\n",
      "Note: you may need to restart the kernel to use updated packages.\n"
     ]
    }
   ],
   "source": [
    "pip install --upgrade pooch"
   ]
  },
  {
   "cell_type": "code",
   "execution_count": 4,
   "id": "4218be35",
   "metadata": {},
   "outputs": [
    {
     "name": "stdout",
     "output_type": "stream",
     "text": [
      "Collecting pooch==1.6.0\n",
      "  Using cached pooch-1.6.0-py3-none-any.whl.metadata (10 kB)\n",
      "Requirement already satisfied: appdirs>=1.3.0 in /Users/angel007/anaconda3/lib/python3.11/site-packages (from pooch==1.6.0) (1.4.4)\n",
      "Requirement already satisfied: packaging>=20.0 in /Users/angel007/anaconda3/lib/python3.11/site-packages (from pooch==1.6.0) (23.0)\n",
      "Requirement already satisfied: requests>=2.19.0 in /Users/angel007/anaconda3/lib/python3.11/site-packages (from pooch==1.6.0) (2.31.0)\n",
      "Requirement already satisfied: charset-normalizer<4,>=2 in /Users/angel007/anaconda3/lib/python3.11/site-packages (from requests>=2.19.0->pooch==1.6.0) (2.0.4)\n",
      "Requirement already satisfied: idna<4,>=2.5 in /Users/angel007/anaconda3/lib/python3.11/site-packages (from requests>=2.19.0->pooch==1.6.0) (3.4)\n",
      "Requirement already satisfied: urllib3<3,>=1.21.1 in /Users/angel007/anaconda3/lib/python3.11/site-packages (from requests>=2.19.0->pooch==1.6.0) (1.26.16)\n",
      "Requirement already satisfied: certifi>=2017.4.17 in /Users/angel007/anaconda3/lib/python3.11/site-packages (from requests>=2.19.0->pooch==1.6.0) (2023.7.22)\n",
      "Using cached pooch-1.6.0-py3-none-any.whl (56 kB)\n",
      "Installing collected packages: pooch\n",
      "  Attempting uninstall: pooch\n",
      "    Found existing installation: pooch 1.8.2\n",
      "    Uninstalling pooch-1.8.2:\n",
      "      Successfully uninstalled pooch-1.8.2\n",
      "Successfully installed pooch-1.6.0\n",
      "\n",
      "\u001b[1m[\u001b[0m\u001b[34;49mnotice\u001b[0m\u001b[1;39;49m]\u001b[0m\u001b[39;49m A new release of pip is available: \u001b[0m\u001b[31;49m24.1.2\u001b[0m\u001b[39;49m -> \u001b[0m\u001b[32;49m24.2\u001b[0m\n",
      "\u001b[1m[\u001b[0m\u001b[34;49mnotice\u001b[0m\u001b[1;39;49m]\u001b[0m\u001b[39;49m To update, run: \u001b[0m\u001b[32;49mpip install --upgrade pip\u001b[0m\n",
      "Note: you may need to restart the kernel to use updated packages.\n"
     ]
    }
   ],
   "source": [
    "pip install pooch==1.6.0\n"
   ]
  },
  {
   "cell_type": "code",
   "execution_count": 5,
   "id": "0cd99356",
   "metadata": {},
   "outputs": [
    {
     "name": "stderr",
     "output_type": "stream",
     "text": [
      "Downloading data from 'https://github.com/danielgatis/rembg/releases/download/v0.0.0/u2net.onnx' to file '/Users/angel007/.u2net/u2net.onnx'.\n",
      "100%|████████████████████████████████████████| 176M/176M [00:00<00:00, 153GB/s]\n",
      "Context leak detected, CoreAnalytics returned false\n",
      "Context leak detected, CoreAnalytics returned false\n"
     ]
    }
   ],
   "source": [
    "import requests\n",
    "from PIL import Image\n",
    "from rembg import remove\n",
    "from io import BytesIO\n",
    "\n",
    "# Load the image from a URL\n",
    "image_url = \"https://github.com/ml008008/Images/blob/34b93d40188f75544ed8c6548fb528f1eabc0750/0a3UtNzl5Ll3sq8K.png?raw=true\"\n",
    "response = requests.get(image_url)\n",
    "image = Image.open(BytesIO(response.content))\n",
    "\n",
    "# Remove the green background\n",
    "image = remove(image)\n",
    "\n",
    "# Resize the image\n",
    "image = image.resize((30, 20))\n",
    "\n",
    "# Convert the image to grayscale\n",
    "image = image.convert(\"L\")\n",
    "\n",
    "# Save the processed image\n",
    "processed_image_path = \"processed_image.png\"\n",
    "image.save(processed_image_path)\n",
    "\n",
    "# Display the processed image\n",
    "image.show()\n"
   ]
  },
  {
   "cell_type": "code",
   "execution_count": null,
   "id": "b57e2b4f",
   "metadata": {},
   "outputs": [],
   "source": []
  }
 ],
 "metadata": {
  "kernelspec": {
   "display_name": "Python 3 (ipykernel)",
   "language": "python",
   "name": "python3"
  },
  "language_info": {
   "codemirror_mode": {
    "name": "ipython",
    "version": 3
   },
   "file_extension": ".py",
   "mimetype": "text/x-python",
   "name": "python",
   "nbconvert_exporter": "python",
   "pygments_lexer": "ipython3",
   "version": "3.11.4"
  }
 },
 "nbformat": 4,
 "nbformat_minor": 5
}
